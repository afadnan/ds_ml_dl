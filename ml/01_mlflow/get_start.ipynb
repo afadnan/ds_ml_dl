{
 "cells": [
  {
   "cell_type": "markdown",
   "id": "3d6316ac",
   "metadata": {},
   "source": [
    "# MLFlow Tracking Server"
   ]
  },
  {
   "cell_type": "code",
   "execution_count": 2,
   "id": "4c5f1166",
   "metadata": {},
   "outputs": [],
   "source": [
    "import mlflow"
   ]
  },
  {
   "cell_type": "code",
   "execution_count": 3,
   "id": "0544e177",
   "metadata": {},
   "outputs": [],
   "source": [
    "mlflow.set_tracking_uri(\"http://127.0.0.1:5000\")"
   ]
  },
  {
   "cell_type": "code",
   "execution_count": 4,
   "id": "d7dbe2fc",
   "metadata": {},
   "outputs": [
    {
     "name": "stderr",
     "output_type": "stream",
     "text": [
      "2025/04/22 18:51:25 INFO mlflow.tracking.fluent: Experiment with name 'Check localhost connection' does not exist. Creating a new experiment.\n"
     ]
    },
    {
     "name": "stdout",
     "output_type": "stream",
     "text": [
      "🏃 View run nosy-toad-319 at: http://127.0.0.1:5000/#/experiments/127826167819514373/runs/b0d4ba6e3dee4fdfb7c3b0b89307c643\n",
      "🧪 View experiment at: http://127.0.0.1:5000/#/experiments/127826167819514373\n"
     ]
    }
   ],
   "source": [
    "mlflow.set_experiment(\"Check localhost connection\")\n",
    "\n",
    "with mlflow.start_run():\n",
    "    mlflow.log_metric(\"Ashraf\",1)\n",
    "    mlflow.log_metric(\"Adnan\",2)"
   ]
  },
  {
   "cell_type": "code",
   "execution_count": 5,
   "id": "b4305886",
   "metadata": {},
   "outputs": [
    {
     "name": "stdout",
     "output_type": "stream",
     "text": [
      "🏃 View run classy-flea-582 at: http://127.0.0.1:5000/#/experiments/127826167819514373/runs/3e6a5bd0ca7d439488a5b2948f269ae2\n",
      "🧪 View experiment at: http://127.0.0.1:5000/#/experiments/127826167819514373\n"
     ]
    }
   ],
   "source": [
    "with mlflow.start_run():\n",
    "    mlflow.log_metric(\"Adnan1\",1)\n",
    "    mlflow.log_metric(\"Ashraf1\",2)"
   ]
  },
  {
   "cell_type": "code",
   "execution_count": 6,
   "id": "15c6e92e",
   "metadata": {},
   "outputs": [
    {
     "name": "stdout",
     "output_type": "stream",
     "text": [
      "🏃 View run crawling-hare-250 at: http://127.0.0.1:5000/#/experiments/127826167819514373/runs/9832ac4d94dc41df983e55e521c58a63\n",
      "🧪 View experiment at: http://127.0.0.1:5000/#/experiments/127826167819514373\n"
     ]
    }
   ],
   "source": [
    "with mlflow.start_run():\n",
    "    mlflow.log_metric(\"Adnan2\",1)\n",
    "    mlflow.log_metric(\"Ashraf2\",2)"
   ]
  },
  {
   "cell_type": "code",
   "execution_count": null,
   "id": "0f47bf50",
   "metadata": {},
   "outputs": [],
   "source": []
  }
 ],
 "metadata": {
  "kernelspec": {
   "display_name": "Python 3",
   "language": "python",
   "name": "python3"
  },
  "language_info": {
   "codemirror_mode": {
    "name": "ipython",
    "version": 3
   },
   "file_extension": ".py",
   "mimetype": "text/x-python",
   "name": "python",
   "nbconvert_exporter": "python",
   "pygments_lexer": "ipython3",
   "version": "3.10.0"
  }
 },
 "nbformat": 4,
 "nbformat_minor": 5
}
