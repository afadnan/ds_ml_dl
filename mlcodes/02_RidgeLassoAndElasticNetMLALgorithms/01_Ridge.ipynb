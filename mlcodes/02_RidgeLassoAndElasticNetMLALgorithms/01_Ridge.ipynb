{
 "cells": [
  {
   "cell_type": "markdown",
   "id": "a7db1b80",
   "metadata": {},
   "source": [
    "# Algerian Forest Fires Dataset"
   ]
  },
  {
   "cell_type": "markdown",
   "id": "f1ede226",
   "metadata": {},
   "source": [
    "Data Set Information:\n",
    "\n",
    "The dataset includes 244 instances that regroup a data of two regions of Algeria,namely the Bejaia region located in the northeast of Algeria and the Sidi Bel-abbes region located in the northwest of Algeria.\n",
    "\n",
    "122 instances for each region.\n",
    "\n",
    "The period from June 2012 to September 2012. The dataset includes 11 attribues and 1 output attribue (class) The 244 instances have been classified into fire(138 classes) and not fire (106 classes) classes.\n",
    "\n",
    "Attribute Information:\n",
    "\n",
    "Date : (DD/MM/YYYY) Day, month ('june' to 'september'), year (2012) Weather data observations\n",
    "Temp : temperature noon (temperature max) in Celsius degrees: 22 to 42\n",
    "RH : Relative Humidity in %: 21 to 90\n",
    "Ws :Wind speed in km/h: 6 to 29\n",
    "Rain: total day in mm: 0 to 16.8 FWI Components\n",
    "Fine Fuel Moisture Code (FFMC) index from the FWI system: 28.6 to 92.5\n",
    "Duff Moisture Code (DMC) index from the FWI system: 1.1 to 65.9\n",
    "Drought Code (DC) index from the FWI system: 7 to 220.4\n",
    "Initial Spread Index (ISI) index from the FWI system: 0 to 18.5\n",
    "Buildup Index (BUI) index from the FWI system: 1.1 to 68\n",
    "Fire Weather Index (FWI) Index: 0 to 31.1\n",
    "Classes: two classes, namely Fire and not Fire"
   ]
  },
  {
   "cell_type": "code",
   "execution_count": 1,
   "id": "73f9e488",
   "metadata": {},
   "outputs": [],
   "source": [
    "import pandas as pd\n",
    "import numpy as np\n",
    "import matplotlib.pyplot as plt\n",
    "import seaborn as sns\n",
    "%matplotlib inline"
   ]
  },
  {
   "cell_type": "code",
   "execution_count": null,
   "id": "54817d99",
   "metadata": {},
   "outputs": [],
   "source": []
  }
 ],
 "metadata": {
  "kernelspec": {
   "display_name": "Python 3",
   "language": "python",
   "name": "python3"
  },
  "language_info": {
   "codemirror_mode": {
    "name": "ipython",
    "version": 3
   },
   "file_extension": ".py",
   "mimetype": "text/x-python",
   "name": "python",
   "nbconvert_exporter": "python",
   "pygments_lexer": "ipython3",
   "version": "3.10.0"
  }
 },
 "nbformat": 4,
 "nbformat_minor": 5
}
